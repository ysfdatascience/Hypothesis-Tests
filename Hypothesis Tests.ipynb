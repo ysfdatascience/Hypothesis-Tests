{
 "cells": [
  {
   "cell_type": "code",
   "execution_count": 27,
   "id": "196f5b55-726a-4255-adfe-91ce22c90c78",
   "metadata": {},
   "outputs": [],
   "source": [
    "import numpy as np\n",
    "import pandas as pd\n",
    "import os\n",
    "path = os.environ.get(\"store_data\")\n",
    "store = pd.HDFStore(path=path)"
   ]
  },
  {
   "cell_type": "code",
   "execution_count": 29,
   "id": "31dcb28d-28fe-4ed7-bff0-58138fdff0ef",
   "metadata": {},
   "outputs": [
    {
     "data": {
      "text/html": [
       "<div>\n",
       "<style scoped>\n",
       "    .dataframe tbody tr th:only-of-type {\n",
       "        vertical-align: middle;\n",
       "    }\n",
       "\n",
       "    .dataframe tbody tr th {\n",
       "        vertical-align: top;\n",
       "    }\n",
       "\n",
       "    .dataframe thead th {\n",
       "        text-align: right;\n",
       "    }\n",
       "</style>\n",
       "<table border=\"1\" class=\"dataframe\">\n",
       "  <thead>\n",
       "    <tr style=\"text-align: right;\">\n",
       "      <th></th>\n",
       "      <th>surname</th>\n",
       "      <th>name</th>\n",
       "      <th>age</th>\n",
       "      <th>gender</th>\n",
       "      <th>country</th>\n",
       "      <th>ethnicity</th>\n",
       "      <th>start_date</th>\n",
       "      <th>department</th>\n",
       "      <th>position</th>\n",
       "      <th>salary</th>\n",
       "    </tr>\n",
       "  </thead>\n",
       "  <tbody>\n",
       "    <tr>\n",
       "      <th>0</th>\n",
       "      <td>Bold</td>\n",
       "      <td>Caroline</td>\n",
       "      <td>63</td>\n",
       "      <td>Female</td>\n",
       "      <td>United States</td>\n",
       "      <td>White</td>\n",
       "      <td>2012-07-02</td>\n",
       "      <td>Executive Office</td>\n",
       "      <td>President &amp; CEO</td>\n",
       "      <td>166400.0</td>\n",
       "    </tr>\n",
       "    <tr>\n",
       "      <th>1</th>\n",
       "      <td>Zamora</td>\n",
       "      <td>Jennifer</td>\n",
       "      <td>38</td>\n",
       "      <td>Female</td>\n",
       "      <td>United States</td>\n",
       "      <td>White</td>\n",
       "      <td>2010-04-10</td>\n",
       "      <td>IT/IS</td>\n",
       "      <td>CIO</td>\n",
       "      <td>135200.0</td>\n",
       "    </tr>\n",
       "    <tr>\n",
       "      <th>2</th>\n",
       "      <td>Houlihan</td>\n",
       "      <td>Debra</td>\n",
       "      <td>51</td>\n",
       "      <td>Female</td>\n",
       "      <td>United States</td>\n",
       "      <td>White</td>\n",
       "      <td>2014-05-05</td>\n",
       "      <td>Sales</td>\n",
       "      <td>Director of Sales</td>\n",
       "      <td>124800.0</td>\n",
       "    </tr>\n",
       "    <tr>\n",
       "      <th>3</th>\n",
       "      <td>Bramante</td>\n",
       "      <td>Elisa</td>\n",
       "      <td>34</td>\n",
       "      <td>Female</td>\n",
       "      <td>United States</td>\n",
       "      <td>Black or African American</td>\n",
       "      <td>2009-01-05</td>\n",
       "      <td>Production</td>\n",
       "      <td>Director of Operations</td>\n",
       "      <td>124800.0</td>\n",
       "    </tr>\n",
       "    <tr>\n",
       "      <th>4</th>\n",
       "      <td>Del Bosque</td>\n",
       "      <td>Keyla</td>\n",
       "      <td>38</td>\n",
       "      <td>Female</td>\n",
       "      <td>United States</td>\n",
       "      <td>Black or African American</td>\n",
       "      <td>2012-01-09</td>\n",
       "      <td>Software Engineering</td>\n",
       "      <td>Software Engineer</td>\n",
       "      <td>118809.6</td>\n",
       "    </tr>\n",
       "  </tbody>\n",
       "</table>\n",
       "</div>"
      ],
      "text/plain": [
       "      surname      name  age  gender        country  \\\n",
       "0        Bold  Caroline   63  Female  United States   \n",
       "1      Zamora  Jennifer   38  Female  United States   \n",
       "2    Houlihan     Debra   51  Female  United States   \n",
       "3    Bramante     Elisa   34  Female  United States   \n",
       "4  Del Bosque     Keyla   38  Female  United States   \n",
       "\n",
       "                   ethnicity start_date            department  \\\n",
       "0                      White 2012-07-02      Executive Office   \n",
       "1                      White 2010-04-10                 IT/IS   \n",
       "2                      White 2014-05-05                 Sales   \n",
       "3  Black or African American 2009-01-05     Production          \n",
       "4  Black or African American 2012-01-09  Software Engineering   \n",
       "\n",
       "                 position    salary  \n",
       "0         President & CEO  166400.0  \n",
       "1                     CIO  135200.0  \n",
       "2       Director of Sales  124800.0  \n",
       "3  Director of Operations  124800.0  \n",
       "4       Software Engineer  118809.6  "
      ]
     },
     "execution_count": 29,
     "metadata": {},
     "output_type": "execute_result"
    }
   ],
   "source": [
    "df = store[\"company_salary_dataset\"];df.head()"
   ]
  },
  {
   "cell_type": "markdown",
   "id": "899ea73f-fdae-4455-8c63-dc7baf7ed0bc",
   "metadata": {},
   "source": [
    "# Hypothesis Tests\n",
    "\n",
    "The dataset consists of 174 observations randomly selected from a company with 5,000 employees.\n",
    "\n",
    "hypothesis test 1 will be conducted to determine whether there is a significant difference in the salaries paid to male and female employees in terms of gender.\n",
    "\n",
    "hypothesis test 2 will be conducted to determine whether there is a significant difference in the salaries paid to white and non-white employees in terms of ethnicity.\n",
    "\n",
    "We are using a t-test, assuming that the population variances are equal.\n"
   ]
  },
  {
   "cell_type": "markdown",
   "id": "43135b40-e48c-4b02-bc5f-aeaae8badf6c",
   "metadata": {},
   "source": [
    "### Hypothesis Test 1 (Gender)\n",
    "\n",
    "<p>H<sub>0</sub>:&nbsp;&nbsp;&#956;<sub>m</sub> - &#956;<sub>f</sub>&nbsp;=&nbsp;0 &nbsp; The average salary for male employees is equal to the average salary for female employees.</p> \n",
    "<p>H<sub>1</sub>:&nbsp;&nbsp;&#956;<sub>m</sub> - &#956;<sub>f</sub>&nbsp;&#8800;&nbsp;0 &nbsp; The average salary for male employees is not equal to the average salary for female employees.</p>"
   ]
  },
  {
   "cell_type": "code",
   "execution_count": 7,
   "id": "4db0ada3-c8dd-490a-8257-1b9861fe6f40",
   "metadata": {
    "scrolled": true
   },
   "outputs": [],
   "source": [
    "table = df.groupby(by = \"gender\")[[\"gender\", \"salary\"]].agg(n = (\"gender\", \"count\"),\n",
    "                                                            mean = (\"salary\", \"mean\"),\n",
    "                                                            sample_variance=(\"salary\", lambda x: np.var(x, ddof=1)))\n",
    "                                                   \n",
    "table[\"pooled_variance\"] = sum((table[\"n\"] - 1)*table[\"sample_variance\"]) / (table[\"n\"].sum() - 2)\n",
    "table[\"standart_error\"] = np.sqrt(sum(table[\"pooled_variance\"]/table[\"n\"]))"
   ]
  },
  {
   "cell_type": "code",
   "execution_count": 9,
   "id": "fba5e13d-64b7-4438-87e2-6c42a763a8f1",
   "metadata": {},
   "outputs": [
    {
     "data": {
      "text/html": [
       "<style type=\"text/css\">\n",
       "</style>\n",
       "<table id=\"T_f790c\">\n",
       "  <thead>\n",
       "    <tr>\n",
       "      <th class=\"blank level0\" >&nbsp;</th>\n",
       "      <th id=\"T_f790c_level0_col0\" class=\"col_heading level0 col0\" >n</th>\n",
       "      <th id=\"T_f790c_level0_col1\" class=\"col_heading level0 col1\" >mean</th>\n",
       "      <th id=\"T_f790c_level0_col2\" class=\"col_heading level0 col2\" >sample_variance</th>\n",
       "      <th id=\"T_f790c_level0_col3\" class=\"col_heading level0 col3\" >pooled_variance</th>\n",
       "      <th id=\"T_f790c_level0_col4\" class=\"col_heading level0 col4\" >standart_error</th>\n",
       "    </tr>\n",
       "    <tr>\n",
       "      <th class=\"index_name level0\" >gender</th>\n",
       "      <th class=\"blank col0\" >&nbsp;</th>\n",
       "      <th class=\"blank col1\" >&nbsp;</th>\n",
       "      <th class=\"blank col2\" >&nbsp;</th>\n",
       "      <th class=\"blank col3\" >&nbsp;</th>\n",
       "      <th class=\"blank col4\" >&nbsp;</th>\n",
       "    </tr>\n",
       "  </thead>\n",
       "  <tbody>\n",
       "    <tr>\n",
       "      <th id=\"T_f790c_level0_row0\" class=\"row_heading level0 row0\" >Female</th>\n",
       "      <td id=\"T_f790c_row0_col0\" class=\"data row0 col0\" >98</td>\n",
       "      <td id=\"T_f790c_row0_col1\" class=\"data row0 col1\" >65.736,91</td>\n",
       "      <td id=\"T_f790c_row0_col2\" class=\"data row0 col2\" >1.097.618.027,68</td>\n",
       "      <td id=\"T_f790c_row0_col3\" class=\"data row0 col3\" >1.160.327.458,01</td>\n",
       "      <td id=\"T_f790c_row0_col4\" class=\"data row0 col4\" >5.206,49</td>\n",
       "    </tr>\n",
       "    <tr>\n",
       "      <th id=\"T_f790c_level0_row1\" class=\"row_heading level0 row1\" >Male</th>\n",
       "      <td id=\"T_f790c_row1_col0\" class=\"data row1 col0\" >76</td>\n",
       "      <td id=\"T_f790c_row1_col1\" class=\"data row1 col1\" >72.300,53</td>\n",
       "      <td id=\"T_f790c_row1_col2\" class=\"data row1 col2\" >1.241.431.654,56</td>\n",
       "      <td id=\"T_f790c_row1_col3\" class=\"data row1 col3\" >1.160.327.458,01</td>\n",
       "      <td id=\"T_f790c_row1_col4\" class=\"data row1 col4\" >5.206,49</td>\n",
       "    </tr>\n",
       "  </tbody>\n",
       "</table>\n"
      ],
      "text/plain": [
       "<pandas.io.formats.style.Styler at 0x20839a9bdd0>"
      ]
     },
     "execution_count": 9,
     "metadata": {},
     "output_type": "execute_result"
    }
   ],
   "source": [
    "table.style.format(thousands = \".\", decimal = \",\", precision=2)"
   ]
  },
  {
   "cell_type": "code",
   "execution_count": 11,
   "id": "f1e5804f-4ef1-4319-b605-7e730a2bb4eb",
   "metadata": {},
   "outputs": [],
   "source": [
    "T_score = (table.loc[\"Male\", \"mean\"] - table.loc[\"Female\", \"mean\"]) / table.loc[\"Male\",\"standart_error\"]"
   ]
  },
  {
   "cell_type": "code",
   "execution_count": 13,
   "id": "6bf99f45-1451-48b2-aeca-0bcf97927e18",
   "metadata": {},
   "outputs": [
    {
     "name": "stdout",
     "output_type": "stream",
     "text": [
      "T_score: 1.26\n",
      "Critical_value(t_table_value): 2.58\n",
      "p-value: 0.209\n"
     ]
    }
   ],
   "source": [
    "print(f\"T_score: {T_score:.2f}\\nCritical_value(t_table_value): {2.58}\\np-value: {0.209}\")"
   ]
  },
  {
   "cell_type": "markdown",
   "id": "fed81724-072d-4b48-be4c-715aa895c09d",
   "metadata": {},
   "source": [
    "### Hypothesis Test 1 Interpretation\n",
    "\n",
    "Since the t-score is less than the critical value, or the p-value is greater than common significance levels, there is not enough evidence to reject the null hypothesis. In other words, we cannot conclude that there is a gender-based pay difference between male and female employees in the company.\n",
    "\n",
    "<p>H<sub>0</sub>:&nbsp;&nbsp;&#956;<sub>m</sub> - &#956;<sub>f</sub>&nbsp;=&nbsp;0 &nbsp; cannot be rejected."
   ]
  },
  {
   "cell_type": "code",
   "execution_count": null,
   "id": "a4f71504-cb0b-4c5d-85a1-f0e24cb123ed",
   "metadata": {},
   "outputs": [],
   "source": []
  },
  {
   "cell_type": "markdown",
   "id": "8a299e17-37d9-4d17-92c9-74f6334c4958",
   "metadata": {},
   "source": [
    "### Hypothesis Test 2 (Ethnicity)\n",
    "\n",
    "'White' (containing only employees that are indicated as white) and 'Nonwhite' (Asian, Black or African American, Hispanic, Two or more races). "
   ]
  },
  {
   "cell_type": "markdown",
   "id": "28a38ee4-bd2c-47b1-92a4-8edd30b73c2e",
   "metadata": {},
   "source": [
    "<p>H<sub>0</sub>:&nbsp;&nbsp;&#956;<sub>w</sub> - &#956;<sub>non_w</sub>&nbsp;=&nbsp;0 &nbsp;  The average salary for White employees is equal to the average salary for non-White employees.</p> \n",
    "<p>H<sub>1</sub>:&nbsp;&nbsp;&#956;<sub>w</sub> - &#956;<sub>non_w</sub>&nbsp;&#8800;&nbsp;0 &nbsp; The average salary for White employees is not equal to the average salary for non-White employees.</p>"
   ]
  },
  {
   "cell_type": "code",
   "execution_count": 16,
   "id": "532c6f4a-5b77-4d82-ac2c-b28ec5bd84af",
   "metadata": {},
   "outputs": [],
   "source": [
    "df[\"ethnicity\"] = df[\"ethnicity\"].where(df[\"ethnicity\"] == \"White\", other = \"Non-White\", axis = 0)\n",
    "df2 = df.copy()"
   ]
  },
  {
   "cell_type": "code",
   "execution_count": 19,
   "id": "adb01e85-4a14-401a-b2f5-673d77e3f44d",
   "metadata": {},
   "outputs": [],
   "source": [
    "table2 = df2.groupby(by = \"ethnicity\")[[\"ethnicity\", \"salary\"]].agg(n = (\"ethnicity\", \"count\"),\n",
    "                                                            mean = (\"salary\", \"mean\"),\n",
    "                                                            sample_variance=(\"salary\", lambda x: np.var(x, ddof=1)))\n",
    "                                                   \n",
    "table2[\"pooled_variance\"] = sum((table2[\"n\"] - 1)*table2[\"sample_variance\"]) / (table2[\"n\"].sum() - 2)\n",
    "table2[\"standart_error\"] = np.sqrt(sum(table2[\"pooled_variance\"]/table2[\"n\"]))"
   ]
  },
  {
   "cell_type": "code",
   "execution_count": 21,
   "id": "5be2c116-9324-4d73-8747-23a808cccce1",
   "metadata": {},
   "outputs": [
    {
     "data": {
      "text/html": [
       "<style type=\"text/css\">\n",
       "</style>\n",
       "<table id=\"T_675b8\">\n",
       "  <thead>\n",
       "    <tr>\n",
       "      <th class=\"blank level0\" >&nbsp;</th>\n",
       "      <th id=\"T_675b8_level0_col0\" class=\"col_heading level0 col0\" >n</th>\n",
       "      <th id=\"T_675b8_level0_col1\" class=\"col_heading level0 col1\" >mean</th>\n",
       "      <th id=\"T_675b8_level0_col2\" class=\"col_heading level0 col2\" >sample_variance</th>\n",
       "      <th id=\"T_675b8_level0_col3\" class=\"col_heading level0 col3\" >pooled_variance</th>\n",
       "      <th id=\"T_675b8_level0_col4\" class=\"col_heading level0 col4\" >standart_error</th>\n",
       "    </tr>\n",
       "    <tr>\n",
       "      <th class=\"index_name level0\" >ethnicity</th>\n",
       "      <th class=\"blank col0\" >&nbsp;</th>\n",
       "      <th class=\"blank col1\" >&nbsp;</th>\n",
       "      <th class=\"blank col2\" >&nbsp;</th>\n",
       "      <th class=\"blank col3\" >&nbsp;</th>\n",
       "      <th class=\"blank col4\" >&nbsp;</th>\n",
       "    </tr>\n",
       "  </thead>\n",
       "  <tbody>\n",
       "    <tr>\n",
       "      <th id=\"T_675b8_level0_row0\" class=\"row_heading level0 row0\" >Non-White</th>\n",
       "      <td id=\"T_675b8_row0_col0\" class=\"data row0 col0\" >62</td>\n",
       "      <td id=\"T_675b8_row0_col1\" class=\"data row0 col1\" >70.917,26</td>\n",
       "      <td id=\"T_675b8_row0_col2\" class=\"data row0 col2\" >1.225.049.916,30</td>\n",
       "      <td id=\"T_675b8_row0_col3\" class=\"data row0 col3\" >1.168.051.481,95</td>\n",
       "      <td id=\"T_675b8_row0_col4\" class=\"data row0 col4\" >5.410,04</td>\n",
       "    </tr>\n",
       "    <tr>\n",
       "      <th id=\"T_675b8_level0_row1\" class=\"row_heading level0 row1\" >White</th>\n",
       "      <td id=\"T_675b8_row1_col0\" class=\"data row1 col0\" >112</td>\n",
       "      <td id=\"T_675b8_row1_col1\" class=\"data row1 col1\" >67.323,10</td>\n",
       "      <td id=\"T_675b8_row1_col2\" class=\"data row1 col2\" >1.136.728.018,03</td>\n",
       "      <td id=\"T_675b8_row1_col3\" class=\"data row1 col3\" >1.168.051.481,95</td>\n",
       "      <td id=\"T_675b8_row1_col4\" class=\"data row1 col4\" >5.410,04</td>\n",
       "    </tr>\n",
       "  </tbody>\n",
       "</table>\n"
      ],
      "text/plain": [
       "<pandas.io.formats.style.Styler at 0x20839b0f9b0>"
      ]
     },
     "execution_count": 21,
     "metadata": {},
     "output_type": "execute_result"
    }
   ],
   "source": [
    "table2.style.format(thousands = \".\", decimal = \",\", precision=2)"
   ]
  },
  {
   "cell_type": "code",
   "execution_count": 23,
   "id": "7b6a64b2-6562-4356-8a51-2dd1b4a680d8",
   "metadata": {},
   "outputs": [
    {
     "name": "stdout",
     "output_type": "stream",
     "text": [
      "T_score: 0.66\n",
      "Critical_value(t_table_value): 2.58\n",
      "p-value: 0.51\n"
     ]
    }
   ],
   "source": [
    "T_score2 = abs((table2.loc[\"White\", \"mean\"] - table2.loc[\"Non-White\", \"mean\"])) / table2.loc[\"White\",\"standart_error\"]\n",
    "print(f\"T_score: {T_score2:.2f}\\nCritical_value(t_table_value): {2.58}\\np-value: {0.510}\")"
   ]
  },
  {
   "cell_type": "markdown",
   "id": "d670fd57-fe56-4a2c-b427-44f611a34cda",
   "metadata": {},
   "source": [
    "### Hypothesis Test 2 Interpretation\n",
    "\n",
    "Since the t-score is smaller than the critical value, or the p-value is larger than common significance levels, there is not enough evidence to reject the null hypothesis. In other words, we cannot conclude that there is a wage difference between white and non-white employees in the company.\n",
    "\n",
    "<p>H<sub>0</sub>:&nbsp;&nbsp;&#956;<sub>w</sub> - &#956;<sub>non_w</sub>&nbsp;=&nbsp;0 &nbsp; cannot be rejected."
   ]
  },
  {
   "cell_type": "code",
   "execution_count": null,
   "id": "eb78e4ce-fc05-481d-ade5-bf69cdbbe2d3",
   "metadata": {},
   "outputs": [],
   "source": []
  },
  {
   "cell_type": "code",
   "execution_count": null,
   "id": "c8de90d1-9b7c-4ff7-872b-e6d5bb0523aa",
   "metadata": {},
   "outputs": [],
   "source": []
  }
 ],
 "metadata": {
  "kernelspec": {
   "display_name": "Python 3 (ipykernel)",
   "language": "python",
   "name": "python3"
  },
  "language_info": {
   "codemirror_mode": {
    "name": "ipython",
    "version": 3
   },
   "file_extension": ".py",
   "mimetype": "text/x-python",
   "name": "python",
   "nbconvert_exporter": "python",
   "pygments_lexer": "ipython3",
   "version": "3.12.4"
  }
 },
 "nbformat": 4,
 "nbformat_minor": 5
}
